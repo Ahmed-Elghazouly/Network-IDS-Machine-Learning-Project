{
 "cells": [
  {
   "cell_type": "code",
   "execution_count": 24,
   "id": "1f6cd488",
   "metadata": {},
   "outputs": [
    {
     "name": "stdout",
     "output_type": "stream",
     "text": [
      "Best model and feature list have been loaded.\n"
     ]
    }
   ],
   "source": [
    "import pandas as pd\n",
    "import joblib\n",
    "import pickle\n",
    "import os\n",
    "\n",
    "# Load our best model (Random Forest) that we identified during evaluation.\n",
    "best_model = joblib.load(\"../models/lightgbm.pkl\")\n",
    "\n",
    "# We also need the list of features the model expects to see.\n",
    "with open(\"../data/processed/selected_features.pkl\", 'rb') as f:\n",
    "    selected_features = pickle.load(f)\n",
    "\n",
    "print(\"Best model and feature list have been loaded.\")"
   ]
  },
  {
   "cell_type": "code",
   "execution_count": 28,
   "id": "66735b98",
   "metadata": {},
   "outputs": [],
   "source": [
    "def classify_traffic(raw_data_row, model):\n",
    "    \"\"\"\n",
    "    Takes a single row of raw traffic data (as a DataFrame)\n",
    "    and returns a prediction ('BENIGN' or 'ATTACK').\n",
    "    \n",
    "    The model's internal pipeline will handle any necessary imputation or scaling.\n",
    "    \"\"\"\n",
    "    # The .predict() command runs the entire pipeline and makes a prediction.\n",
    "    prediction_numeric = model.predict(raw_data_row)\n",
    "    \n",
    "    # Convert the numeric prediction back to a human-readable label\n",
    "    prediction_label = 'BENIGN' if prediction_numeric[0] == 0 else 'ATTACK'\n",
    "    \n",
    "    return prediction_label"
   ]
  },
  {
   "cell_type": "code",
   "execution_count": null,
   "id": "9cff77c3",
   "metadata": {},
   "outputs": [
    {
     "ename": "SyntaxError",
     "evalue": "unterminated string literal (detected at line 27) (274812263.py, line 27)",
     "output_type": "error",
     "traceback": [
      "  \u001b[36mCell\u001b[39m\u001b[36m \u001b[39m\u001b[32mIn[29]\u001b[39m\u001b[32m, line 27\u001b[39m\n\u001b[31m    \u001b[39m\u001b[31m'Subflow B\u001b[39m\n    ^\n\u001b[31mSyntaxError\u001b[39m\u001b[31m:\u001b[39m unterminated string literal (detected at line 27)\n"
     ]
    }
   ],
   "source": [
    "# Here is a sample of new, raw data as a dictionary.\n",
    "# In a real application, this would come from a network sensor.\n",
    "new_sample = {\n",
    "    'Flow Duration': [51234], 'Total Fwd Packets': [2], 'Total Backward Packets': [0],\n",
    "    'Total Length of Fwd Packets': [12], 'Total Length of Bwd Packets': [0],\n",
    "    'Fwd Packet Length Max': [6], 'Fwd Packet Length Min': [6],\n",
    "    'Fwd Packet Length Mean': [6.0], 'Fwd Packet Length Std': [0.0],\n",
    "    'Bwd Packet Length Max': [0], 'Bwd Packet Length Min': [0],\n",
    "    'Bwd Packet Length Mean': [0.0], 'Bwd Packet Length Std': [0.0],\n",
    "    'Flow Bytes/s': [234.21], 'Flow Packets/s': [39.03], 'Flow IAT Mean': [51234.0],\n",
    "    'Flow IAT Std': [0.0], 'Flow IAT Max': [51234], 'Flow IAT Min': [51234],\n",
    "    'Fwd IAT Total': [51234.0], 'Fwd IAT Mean': [51234.0], 'Fwd IAT Std': [0.0],\n",
    "    'Fwd IAT Max': [51234], 'Fwd IAT Min': [51234],\n",
    "    'Bwd IAT Total': [0], 'Bwd IAT Mean': [0.0], 'Bwd IAT Std': [0.0],\n",
    "    'Bwd IAT Max': [0], 'Bwd IAT Min': [0],\n",
    "    'Fwd PSH Flags': [0], 'Bwd PSH Flags': [0], 'Fwd URG Flags': [0], 'Bwd URG Flags': [0],\n",
    "    'Fwd Header Length': [40], 'Bwd Header Length': [0], 'Fwd Packets/s': [39.03],\n",
    "    'Bwd Packets/s': [0.0], 'Min Packet Length': [6], 'Max Packet Length': [6],\n",
    "    'Packet Length Mean': [6.0], 'Packet Length Std': [0.0], 'Packet Length Variance': [0.0],\n",
    "    'FIN Flag Count': [0], 'SYN Flag Count': [0], 'RST Flag Count': [0],\n",
    "    'PSH Flag Count': [1], 'ACK Flag Count': [0], 'URG Flag Count': [0],\n",
    "    'CWE Flag Count': [0], 'ECE Flag Count': [0], 'Down/Up Ratio': [0],\n",
    "    'Average Packet Size': [9.0], 'Avg Fwd Segment Size': [6.0], 'Avg Bwd Segment Size': [0.0],\n",
    "    'Fwd Header Length.1': [40], 'Fwd Avg Bytes/Bulk': [0], 'Fwd Avg Packets/Bulk': [0],\n",
    "    'Fwd Avg Bulk Rate': [0], 'Bwd Avg Bytes/Bulk': [0], 'Bwd Avg Packets/Bulk': [0],\n",
    "    'Bwd Avg Bulk Rate': [0], 'Subflow Fwd Packets': [2], 'Subflow Fwd Bytes': [12],\n",
    "    'Subflow B}"
   ]
  },
  {
   "cell_type": "code",
   "execution_count": 25,
   "id": "a6fd1b86",
   "metadata": {},
   "outputs": [],
   "source": [
    "import numpy as np\n",
    "\n",
    "def preprocess_dataframe(df):\n",
    "    \"\"\"Applies the same cleaning and encoding steps used during training.\"\"\"\n",
    "    df_processed = df.copy()\n",
    "    df_processed.columns = df_processed.columns.str.strip()\n",
    "    \n",
    "    # We encode the label here to compare our model's prediction to the actual result.\n",
    "    df_processed['Label'] = df_processed['Label'].apply(\n",
    "        lambda x: 0 if isinstance(x, str) and x.strip().upper() == 'BENIGN' else 1\n",
    "    )\n",
    "    \n",
    "    # These columns are identifiers and aren't useful for the model.\n",
    "    drop_cols = ['Flow ID', 'Timestamp', 'Source IP', 'Destination IP', 'Source Port', 'Destination Port', 'Protocol']\n",
    "    df_processed.drop(columns=[col for col in drop_cols if col in df_processed.columns], inplace=True, errors='ignore')\n",
    "\n",
    "    # Remove any other non-numeric columns.\n",
    "    non_numeric = df_processed.select_dtypes(include=['object']).columns\n",
    "    df_processed.drop(columns=non_numeric, inplace=True)\n",
    "\n",
    "    # Standardize infinite values to NaN so they can be handled.\n",
    "    df_processed.replace([np.inf, -np.inf], np.nan, inplace=True)\n",
    "    df_processed.dropna(inplace=True)\n",
    "\n",
    "    return df_processed"
   ]
  },
  {
   "cell_type": "code",
   "execution_count": 26,
   "id": "fe2db727",
   "metadata": {},
   "outputs": [
    {
     "name": "stdout",
     "output_type": "stream",
     "text": [
      "Found 3 files to merge for inference.\n",
      "Loaded and merged raw inference data with 703245 rows.\n"
     ]
    }
   ],
   "source": [
    "import glob\n",
    "\n",
    "# Define the path to the inference files.\n",
    "inference_path = \"../data/InferenceDataset/\"\n",
    "\n",
    "# Find all CSV files in that directory.\n",
    "friday_files = glob.glob(os.path.join(inference_path, \"*.csv\"))\n",
    "print(f\"Found {len(friday_files)} files to merge for inference.\")\n",
    "\n",
    "# Read and merge them into a single dataframe.\n",
    "inference_df_raw = pd.concat(\n",
    "    [pd.read_csv(f) for f in friday_files],\n",
    "    ignore_index=True\n",
    ")\n",
    "print(f\"Loaded and merged raw inference data with {inference_df_raw.shape[0]} rows.\")"
   ]
  },
  {
   "cell_type": "code",
   "execution_count": 27,
   "id": "928534e7",
   "metadata": {},
   "outputs": [
    {
     "name": "stdout",
     "output_type": "stream",
     "text": [
      "Overall Accuracy on Inference Data (Friday): 0.7007\n",
      "\n",
      "Classification Report:\n",
      "              precision    recall  f1-score   support\n",
      "\n",
      "      BENIGN       0.66      0.99      0.80    413933\n",
      "      ATTACK       0.97      0.28      0.44    288785\n",
      "\n",
      "    accuracy                           0.70    702718\n",
      "   macro avg       0.82      0.64      0.62    702718\n",
      "weighted avg       0.79      0.70      0.65    702718\n",
      "\n",
      "Confusion Matrix:\n"
     ]
    },
    {
     "data": {
      "image/png": "[encoded data removed]",
      "text/plain": [
       "<Figure size 640x480 with 2 Axes>"
      ]
     },
     "metadata": {},
     "output_type": "display_data"
    }
   ],
   "source": [
    "from sklearn.metrics import accuracy_score, classification_report, confusion_matrix\n",
    "import seaborn as sns\n",
    "import matplotlib.pyplot as plt\n",
    "\n",
    "# First, clean the entire Friday dataset using our function.\n",
    "inference_clean_df = preprocess_dataframe(inference_df_raw)\n",
    "\n",
    "# Separate the features from the true labels.\n",
    "X_inference = inference_clean_df.drop('Label', axis=1)\n",
    "y_actual = inference_clean_df['Label']\n",
    "\n",
    "# Filter the columns to match exactly what the model was trained on.\n",
    "X_inference_final = X_inference[selected_features]\n",
    "\n",
    "# Now, make predictions on all the new data.\n",
    "predictions = best_model.predict(X_inference_final)\n",
    "\n",
    "# Finally, let's see how it did.\n",
    "accuracy = accuracy_score(y_actual, predictions)\n",
    "print(f\"Overall Accuracy on Inference Data (Friday): {accuracy:.4f}\\n\")\n",
    "\n",
    "# The classification report gives a detailed breakdown of performance for each class.\n",
    "print(\"Classification Report:\")\n",
    "print(classification_report(y_actual, predictions, target_names=['BENIGN', 'ATTACK']))\n",
    "\n",
    "# The confusion matrix gives a clear visual of the model's mistakes.\n",
    "print(\"Confusion Matrix:\")\n",
    "cm = confusion_matrix(y_actual, predictions)\n",
    "sns.heatmap(cm, annot=True, fmt='d', cmap='Blues', \n",
    "            xticklabels=['BENIGN', 'ATTACK'], yticklabels=['BENIGN', 'ATTACK'])\n",
    "plt.xlabel('Predicted Label')\n",
    "plt.ylabel('True Label')\n",
    "plt.show()"
   ]
  }
 ],
 "metadata": {
  "kernelspec": {
   "display_name": "Python 3",
   "language": "python",
   "name": "python3"
  },
  "language_info": {
   "codemirror_mode": {
    "name": "ipython",
    "version": 3
   },
   "file_extension": ".py",
   "mimetype": "text/x-python",
   "name": "python",
   "nbconvert_exporter": "python",
   "pygments_lexer": "ipython3",
   "version": "3.12.3"
  }
 },
 "nbformat": 4,
 "nbformat_minor": 5
}
