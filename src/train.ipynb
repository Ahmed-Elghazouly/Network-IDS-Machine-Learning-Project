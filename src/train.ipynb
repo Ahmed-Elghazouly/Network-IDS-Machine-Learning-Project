{
 "cells": [
  {
   "cell_type": "code",
   "execution_count": 2,
   "id": "1ef1231a",
   "metadata": {},
   "outputs": [],
   "source": [
    "import pandas as pd\n",
    "\n",
    "df = pd.read_csv(\"../data/processed/filtered_dataset.csv\")\n"
   ]
  },
  {
   "cell_type": "code",
   "execution_count": 3,
   "id": "3ebc691e",
   "metadata": {},
   "outputs": [],
   "source": [
    "X = df.drop(columns=['Label'])   \n",
    "y = df['Label']                  "
   ]
  },
  {
   "cell_type": "code",
   "execution_count": 4,
   "id": "597411a5",
   "metadata": {},
   "outputs": [],
   "source": [
    "from sklearn.model_selection import train_test_split\n",
    "\n",
    "X_train, X_test, y_train, y_test = train_test_split(\n",
    "    X, y, test_size=0.2, stratify=y, random_state=42\n",
    ")"
   ]
  },
  {
   "cell_type": "code",
   "execution_count": 7,
   "id": "4d16e5b5",
   "metadata": {},
   "outputs": [
    {
     "name": "stdout",
     "output_type": "stream",
     "text": [
      "Logistic Regression - Train: 0.9258 | Test: 0.9254\n",
      "Random Forest - Train: 1.0000 | Test: 0.9985\n",
      "XGBoost - Train: 0.9986 | Test: 0.9984\n",
      "[LightGBM] [Warning] Found whitespace in feature_names, replace with underlines\n",
      "[LightGBM] [Info] Number of positive: 445245, number of negative: 1817055\n",
      "[LightGBM] [Info] Auto-choosing row-wise multi-threading, the overhead of testing was 0.126153 seconds.\n",
      "You can set `force_row_wise=true` to remove the overhead.\n",
      "And if memory is not enough, you can set `force_col_wise=true`.\n",
      "[LightGBM] [Info] Total Bins 6896\n",
      "[LightGBM] [Info] Number of data points in the train set: 2262300, number of used features: 32\n",
      "[LightGBM] [Info] [binary:BoostFromScore]: pavg=0.196811 -> initscore=-1.406348\n",
      "[LightGBM] [Info] Start training from score -1.406348\n",
      "LightGBM - Train: 0.9978 | Test: 0.9977\n",
      "MLP Classifier - Train: 0.9777 | Test: 0.9776\n",
      "Linear SVM - Train: 0.9200 | Test: 0.9199\n"
     ]
    }
   ],
   "source": [
    "from sklearn.linear_model import LogisticRegression\n",
    "from sklearn.ensemble import RandomForestClassifier\n",
    "from xgboost import XGBClassifier\n",
    "from sklearn.svm import LinearSVC\n",
    "from lightgbm import LGBMClassifier\n",
    "from sklearn.neural_network import MLPClassifier\n",
    "from sklearn.preprocessing import StandardScaler\n",
    "from sklearn.pipeline import Pipeline\n",
    "\n",
    "\n",
    "models = {\n",
    "    \"Logistic Regression\": Pipeline([\n",
    "        (\"scaler\", StandardScaler()),\n",
    "        (\"clf\", LogisticRegression(max_iter=2000))\n",
    "    ]),\n",
    "    \"Random Forest\": RandomForestClassifier(n_estimators=100, n_jobs=-1, random_state=42),\n",
    "    \"XGBoost\": XGBClassifier(n_estimators=100, eval_metric='logloss', random_state=42),\n",
    "    \"LightGBM\": LGBMClassifier(n_estimators=100, random_state=42),\n",
    "    \"MLP Classifier\": Pipeline([\n",
    "        (\"scaler\", StandardScaler()),\n",
    "        (\"clf\", MLPClassifier(hidden_layer_sizes=(100,), max_iter=200, early_stopping=True, validation_fraction=0.1, n_iter_no_change=5, random_state=42))\n",
    "    ]),\n",
    "    \"Linear SVM\": Pipeline([\n",
    "        (\"scaler\", StandardScaler()),\n",
    "        (\"clf\", LinearSVC(max_iter=5000, random_state=42))\n",
    "    ])\n",
    "}\n",
    "\n",
    "\n",
    "# Train and evaluate\n",
    "results = {}\n",
    "\n",
    "for name, model in models.items():\n",
    "    model.fit(X_train, y_train)\n",
    "    train_acc = model.score(X_train, y_train)\n",
    "    test_acc = model.score(X_test, y_test)\n",
    "    results[name] = {\"Train Accuracy\": train_acc, \"Test Accuracy\": test_acc}\n",
    "    print(f\"{name} - Train: {train_acc:.4f} | Test: {test_acc:.4f}\")\n"
   ]
  },
  {
   "cell_type": "code",
   "execution_count": 9,
   "id": "4991bb68",
   "metadata": {},
   "outputs": [
    {
     "data": {
      "image/png": "[encoded data removed]",
      "text/plain": [
       "<Figure size 1000x500 with 1 Axes>"
      ]
     },
     "metadata": {},
     "output_type": "display_data"
    }
   ],
   "source": [
    "import matplotlib.pyplot as plt\n",
    "\n",
    "names = list(results.keys())\n",
    "# Extract only the test accuracy\n",
    "scores = [v[\"Test Accuracy\"] for v in results.values()]\n",
    "\n",
    "plt.figure(figsize=(10, 5))\n",
    "plt.barh(names, scores, color='skyblue')\n",
    "plt.xlabel(\"Test Accuracy\")\n",
    "plt.title(\"Model Performance Comparison\")\n",
    "plt.xlim(0.9, 1.0) \n",
    "plt.grid(axis='x')\n",
    "plt.tight_layout()\n",
    "plt.show()\n"
   ]
  },
  {
   "cell_type": "code",
   "execution_count": 11,
   "id": "c0ba8148",
   "metadata": {},
   "outputs": [
    {
     "name": "stdout",
     "output_type": "stream",
     "text": [
      " Saved: ../models/logistic_regression.pkl\n",
      " Saved: ../models/random_forest.pkl\n",
      " Saved: ../models/xgboost.pkl\n",
      " Saved: ../models/lightgbm.pkl\n",
      " Saved: ../models/mlp_classifier.pkl\n",
      " Saved: ../models/linear_svm.pkl\n",
      " Saved: ../models/test_data.pkl\n"
     ]
    }
   ],
   "source": [
    "import joblib\n",
    "import os\n",
    "\n",
    "# Ensure models folder exists\n",
    "os.makedirs(\"../models\", exist_ok=True)\n",
    "\n",
    "# Save all trained models\n",
    "for name, model in models.items():\n",
    "    filename = f\"../models/{name.replace(' ', '_').lower()}.pkl\"\n",
    "    joblib.dump(model, filename)\n",
    "    print(f\" Saved: {filename}\")\n",
    "\n",
    "# Optionally save the test data too\n",
    "joblib.dump((X_test, y_test), \"../models/test_data.pkl\")\n",
    "print(\" Saved: ../models/test_data.pkl\")\n"
   ]
  }
 ],
 "metadata": {
  "kernelspec": {
   "display_name": "Python 3",
   "language": "python",
   "name": "python3"
  },
  "language_info": {
   "codemirror_mode": {
    "name": "ipython",
    "version": 3
   },
   "file_extension": ".py",
   "mimetype": "text/x-python",
   "name": "python",
   "nbconvert_exporter": "python",
   "pygments_lexer": "ipython3",
   "version": "3.12.3"
  }
 },
 "nbformat": 4,
 "nbformat_minor": 5
}
